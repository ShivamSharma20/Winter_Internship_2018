{
 "cells": [
  {
   "cell_type": "raw",
   "metadata": {},
   "source": [
    "1. Which three functions can be used to get the integer, floating-point number, or string version of a value?\n",
    "\n",
    "Ans. \n",
    "1.input()\n",
    "2.int()\n",
    "3.float()\n"
   ]
  },
  {
   "cell_type": "raw",
   "metadata": {},
   "source": [
    "2. what is the output of the following code? "
   ]
  },
  {
   "cell_type": "code",
   "execution_count": 1,
   "metadata": {},
   "outputs": [
    {
     "name": "stdout",
     "output_type": "stream",
     "text": [
      "<class 'int'>\n",
      "<class 'float'>\n",
      "(8+3j)\n"
     ]
    }
   ],
   "source": [
    "a = 5\n",
    "\n",
    "print(type(a))\n",
    "\n",
    "print(type(5.0))\n",
    "\n",
    "c = 5 + 3j\n",
    "print(c + 3)\n"
   ]
  },
  {
   "cell_type": "raw",
   "metadata": {},
   "source": [
    "3. From the options, choose the binary literal.  \n",
    "a. 0B01011 \n",
    "b. 0o10 \n",
    "c. 0xA \n",
    "d. 0 \n",
    "\n",
    "Ans.Option (a)"
   ]
  },
  {
   "cell_type": "raw",
   "metadata": {},
   "source": [
    "4.What is the output of this code?\n",
    "\n",
    "print(0b1101011)\n",
    "\n",
    "print(0xFB + 0b10)\n",
    "\n",
    "print(0o15)\n",
    "\n",
    "Ans.\n",
    "107\n",
    "253\n",
    "13"
   ]
  },
  {
   "cell_type": "raw",
   "metadata": {},
   "source": [
    "5. Which of the following is a variable, and which is a string?\n",
    "\n",
    "a. spam\n",
    "b. 'spam'\n",
    "\n",
    "Ans.\n",
    "variable->spam\n",
    "string->'spam'\n"
   ]
  },
  {
   "cell_type": "raw",
   "metadata": {},
   "source": [
    "6. What is the difference between an expression and a statement?\n",
    "\n",
    "Ans.Expression evaluates a value while statement represent an action or command."
   ]
  },
  {
   "cell_type": "raw",
   "metadata": {},
   "source": [
    "7. What is the output of \"a\"+\"bc\"\n",
    "\n",
    "Ans.'abc'"
   ]
  },
  {
   "cell_type": "raw",
   "metadata": {},
   "source": [
    "8. Print the output of following??\n",
    " str1 = 'hello'\n",
    " str2 = ','\n",
    " str3 = 'world'#1234567890123\n",
    " str1 = str1 + str2 + str3 #'hello,world'print(str1[-1:])#....987654321 <-*(-1)\n",
    " print(str1[-1:])\n",
    " \n",
    " Ans. Option (d)\n",
    " "
   ]
  },
  {
   "cell_type": "raw",
   "metadata": {},
   "source": [
    "9. What is the output of this code?\n",
    "var1 = 'Hello World!'\n",
    "print (\"Updated String :- \", var1[:6] + 'Python')\n",
    "\n",
    "Ans. Updated String :-Hello Python"
   ]
  },
  {
   "cell_type": "raw",
   "metadata": {},
   "source": [
    "10. What is the output?\n",
    "\n",
    "var1 = 'Hello World!'\n",
    "var2 = \"Python Programming\"\n",
    "\n",
    "print \"var1[0]: \", var1[0]\n",
    "print \"var2[1:5]: \", var2[1:5]\n",
    "\n",
    "Ans.\n",
    "var1[0]:H\n",
    "var2[1:5]:ytho"
   ]
  },
  {
   "cell_type": "raw",
   "metadata": {},
   "source": [
    "11.  What is the output when following statement is executed ?\n",
    "\n",
    "print(‘x\\97\\x98’)\n",
    "\n",
    "a. Error\n",
    "b. 97\n",
    "98\n",
    "c. x\\97\n",
    "d. \\x97\\x98\n",
    "\n",
    "Ans. Option (a)"
   ]
  },
  {
   "cell_type": "raw",
   "metadata": {},
   "source": [
    "12. What is the output of code?\n",
    "example = \"helle\"\n",
    "print(example.rfind(\"e\"))\n",
    "\n",
    "Ans.4"
   ]
  },
  {
   "cell_type": "raw",
   "metadata": {},
   "source": [
    "13. Output of code?\n",
    "example=\"helloworld\"\n",
    "example[::-1].startswith(\"d\")\n",
    "\n",
    "a. dlrowolleh\n",
    "b. True\n",
    "c. -1\n",
    "d. None\n",
    "\n",
    "Ans. Option (b)"
   ]
  },
  {
   "cell_type": "raw",
   "metadata": {},
   "source": [
    "14. What is the output of “hello”+1+2+3 ?\n",
    "a. hello123\n",
    "b. hello\n",
    "c. Error\n",
    "d. hello6\n",
    "\n",
    "Ans. Option (c)"
   ]
  },
  {
   "cell_type": "raw",
   "metadata": {},
   "source": [
    "15.  Which of the following statement prints hello\\example\\test.txt ?\n",
    "a. print(“hello\\example\\test.txt”)\n",
    "b. print(“hello\\\\example\\\\test.txt”)\n",
    "c. print(“hello\\”example\\”test.txt”)\n",
    "d. print(“hello”\\example”\\test.txt”)\n",
    "\n",
    "Ans. Option (a)"
   ]
  },
  {
   "cell_type": "raw",
   "metadata": {},
   "source": [
    "16.To retrieve the character at index 3 from string s=”Hello” what command do we execute?\n",
    "a. s[].\n",
    "b. s.getitem(3)\n",
    "c. s.__getitem__(3)\n",
    "d. s.getItem(3)\n",
    "\n",
    "Ans. Option (c)"
   ]
  },
  {
   "cell_type": "raw",
   "metadata": {},
   "source": [
    "17.  What is the output of the following?\n",
    "\n",
    "print(\"xyyzxyzxzxyy\".count('yy'))\n",
    "\n",
    "Ans.2"
   ]
  },
  {
   "cell_type": "raw",
   "metadata": {},
   "source": [
    "18.  What is the output of the following?\n",
    "\n",
    "print('abc'.encode())\n",
    "\n",
    "Ans. b'abc'"
   ]
  },
  {
   "cell_type": "raw",
   "metadata": {},
   "source": [
    "19. What is the output?\n",
    "str1 = 'Hello'\n",
    "str2 ='World!'\n",
    "\n",
    "print('str1 * 3 =', str1 * 3)\n",
    "\n",
    "Ans. str1*3=HelloHelloHello\n"
   ]
  },
  {
   "cell_type": "raw",
   "metadata": {},
   "source": [
    "20. What is the output for the following statements?\n",
    "\n",
    "1. print('for'.isidentifier())\n",
    "2. print('a@ 1,'.islower())\n",
    "3. print('11'.isnumeric())\n",
    "4. print('1@ a'.isprintable())\n",
    "5. print('1.1'.isnumeric())\n",
    "\n",
    "\n",
    "a. True\n",
    "b. False\n",
    "c. None\n",
    "d. Error \n",
    "\n",
    "Ans. \n",
    "1.True\n",
    "2.True\n",
    "3.True\n",
    "4.True\n",
    "5.False"
   ]
  }
 ],
 "metadata": {
  "kernelspec": {
   "display_name": "Python 3",
   "language": "python",
   "name": "python3"
  },
  "language_info": {
   "codemirror_mode": {
    "name": "ipython",
    "version": 3
   },
   "file_extension": ".py",
   "mimetype": "text/x-python",
   "name": "python",
   "nbconvert_exporter": "python",
   "pygments_lexer": "ipython3",
   "version": "3.7.0"
  }
 },
 "nbformat": 4,
 "nbformat_minor": 2
}
