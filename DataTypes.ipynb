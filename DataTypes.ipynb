{
 "cells": [
  {
   "cell_type": "code",
   "execution_count": 5,
   "metadata": {},
   "outputs": [
    {
     "data": {
      "image/png": "[encoded data removed]",
      "text/plain": [
       "<Figure size 432x288 with 1 Axes>"
      ]
     },
     "metadata": {
      "needs_background": "light"
     },
     "output_type": "display_data"
    }
   ],
   "source": [
    "import matplotlib.pyplot as plt\n",
    "import numpy as np \n",
    "x = np.linspace(0,2*np.pi,50)\n",
    "sin = np.sin(x)\n",
    "cos = np.cos(x)\n",
    "plt.plot(x,sin,'ko:',linewidth=3)\n",
    "plt.plot(x,cos,'mo-',linewidth=2)\n",
    "plt.show()"
   ]
  },
  {
   "cell_type": "code",
   "execution_count": null,
   "metadata": {},
   "outputs": [],
   "source": [
    "import turtle \n",
    "pen = turtle.Pen()\n",
    "pen.color('red','yellow')\n",
    "pen.speed(0)\n",
    "pen.begin_fill()\n",
    "for var in range(200) : \n",
    "    pen.circle(var)\n",
    "    pen.left(60)\n",
    "pen.end_fill()\n",
    "turtle.exitonclick()\n"
   ]
  },
  {
   "cell_type": "code",
   "execution_count": null,
   "metadata": {},
   "outputs": [],
   "source": [
    "import turtle \n",
    "pen = turtle.Pen()\n",
    "pen.color('red','green')\n",
    "pen.speed(0)\n",
    "pen.begin_fill()\n",
    "for var in range(200) : \n",
    "    pen.circle(var)\n",
    "    if var % 5 == 0  : \n",
    "        pen.forward(20)\n",
    "    if var % 3 == 0 : \n",
    "        pen.left(60)\n",
    "pen.end_fill()\n",
    "turtle.exitonclick()\n"
   ]
  },
  {
   "cell_type": "markdown",
   "metadata": {},
   "source": [
    "<h1 style='color:#cccccc'>Data Types in Python</h1>\n",
    "<ol style='color:#123456'>\n",
    "    <li>Numbers --> int,float,complex</li>\n",
    "    <li>Strings </li>\n",
    "    <li>List</li>\n",
    "    <li>Tuple</li>\n",
    "    <li>Dictionary</li>\n",
    "    <li>Sets</li>\n",
    "    <li>Frozen Sets</li>\n",
    "    <li>Boolean</li>\n",
    "    </ol>\n",
    "    "
   ]
  },
  {
   "cell_type": "code",
   "execution_count": 6,
   "metadata": {},
   "outputs": [
    {
     "name": "stdout",
     "output_type": "stream",
     "text": [
      "Type of x =  <class 'int'> , Value of x =  5\n",
      "Type of y = <class 'float'> , value of y = 6.3 \n",
      "Type of z = <class 'complex'> , value of z = (123+56j)\n"
     ]
    }
   ],
   "source": [
    "x = 5\n",
    "y = 6.3\n",
    "z = 123+56j\n",
    "\n",
    "print(\"Type of x = \",type(x),\", Value of x = \",x)\n",
    "print(\"Type of y = {} , value of y = {} \".format(type(y),y)) #{} is denoted as buffer\n",
    "print(f\"Type of z = {type(z)} , value of z = {z}\")"
   ]
  },
  {
   "cell_type": "code",
   "execution_count": 7,
   "metadata": {},
   "outputs": [
    {
     "name": "stdout",
     "output_type": "stream",
     "text": [
      "['__abs__', '__add__', '__and__', '__bool__', '__ceil__', '__class__', '__delattr__', '__dir__', '__divmod__', '__doc__', '__eq__', '__float__', '__floor__', '__floordiv__', '__format__', '__ge__', '__getattribute__', '__getnewargs__', '__gt__', '__hash__', '__index__', '__init__', '__init_subclass__', '__int__', '__invert__', '__le__', '__lshift__', '__lt__', '__mod__', '__mul__', '__ne__', '__neg__', '__new__', '__or__', '__pos__', '__pow__', '__radd__', '__rand__', '__rdivmod__', '__reduce__', '__reduce_ex__', '__repr__', '__rfloordiv__', '__rlshift__', '__rmod__', '__rmul__', '__ror__', '__round__', '__rpow__', '__rrshift__', '__rshift__', '__rsub__', '__rtruediv__', '__rxor__', '__setattr__', '__sizeof__', '__str__', '__sub__', '__subclasshook__', '__truediv__', '__trunc__', '__xor__', 'bit_length', 'conjugate', 'denominator', 'from_bytes', 'imag', 'numerator', 'real', 'to_bytes']\n"
     ]
    }
   ],
   "source": [
    "print(dir(x))"
   ]
  },
  {
   "cell_type": "code",
   "execution_count": 8,
   "metadata": {},
   "outputs": [
    {
     "data": {
      "text/plain": [
       "3"
      ]
     },
     "execution_count": 8,
     "metadata": {},
     "output_type": "execute_result"
    }
   ],
   "source": [
    "x.bit_length()"
   ]
  },
  {
   "cell_type": "code",
   "execution_count": 9,
   "metadata": {},
   "outputs": [
    {
     "data": {
      "text/plain": [
       "28"
      ]
     },
     "execution_count": 9,
     "metadata": {},
     "output_type": "execute_result"
    }
   ],
   "source": [
    "x.__sizeof__()"
   ]
  },
  {
   "cell_type": "code",
   "execution_count": 12,
   "metadata": {},
   "outputs": [
    {
     "name": "stdout",
     "output_type": "stream",
     "text": [
      "0b101\n",
      "163\n",
      "48\n",
      "0b1101100000110110101011111010010010110011111110000011011100000001101011110000110100100001010011101010111001010010011000010001101001111011000100110111110010010100001\n"
     ]
    }
   ],
   "source": [
    "print(bin(x))\n",
    "y = 9874892379473894723947374923748972893478923789473\n",
    "print(y.bit_length())\n",
    "print(y.__sizeof__())\n",
    "print(bin(y))"
   ]
  },
  {
   "cell_type": "code",
   "execution_count": 15,
   "metadata": {},
   "outputs": [
    {
     "name": "stdout",
     "output_type": "stream",
     "text": [
      "<class 'int'>\n",
      "11\n",
      "11\n",
      "<class 'str'>\n",
      "hello world\n",
      "hello world\n",
      "<class 'list'>\n",
      "[1, 'hello', 'hi', 2, 'bye', 'bbye']\n",
      "[1, 'hello', 'hi', 2, 'bye', 'bbye']\n"
     ]
    }
   ],
   "source": [
    "x = 5\n",
    "y = 6\n",
    "print(type(x))\n",
    "print(x+y)\n",
    "print(x.__add__(y))\n",
    "x = 'hello '\n",
    "y = 'world'\n",
    "print(type(x))\n",
    "print(x+y)\n",
    "print(x.__add__(y))\n",
    "x =  [ 1,'hello','hi']\n",
    "y = [ 2,'bye','bbye']\n",
    "print(type(x))\n",
    "print(x+y)\n",
    "print(x.__add__(y))"
   ]
  },
  {
   "cell_type": "code",
   "execution_count": 16,
   "metadata": {},
   "outputs": [
    {
     "data": {
      "text/plain": [
       "11"
      ]
     },
     "execution_count": 16,
     "metadata": {},
     "output_type": "execute_result"
    }
   ],
   "source": [
    "len('hello world')"
   ]
  },
  {
   "cell_type": "code",
   "execution_count": 17,
   "metadata": {},
   "outputs": [
    {
     "data": {
      "text/plain": [
       "11"
      ]
     },
     "execution_count": 17,
     "metadata": {},
     "output_type": "execute_result"
    }
   ],
   "source": [
    "'hello world'.__len__()"
   ]
  },
  {
   "cell_type": "code",
   "execution_count": 18,
   "metadata": {},
   "outputs": [
    {
     "data": {
      "text/plain": [
       "4"
      ]
     },
     "execution_count": 18,
     "metadata": {},
     "output_type": "execute_result"
    }
   ],
   "source": [
    "len([1,2,3,4])"
   ]
  },
  {
   "cell_type": "code",
   "execution_count": 19,
   "metadata": {},
   "outputs": [
    {
     "data": {
      "text/plain": [
       "4"
      ]
     },
     "execution_count": 19,
     "metadata": {},
     "output_type": "execute_result"
    }
   ],
   "source": [
    "[1,2,3,4].__len__()"
   ]
  },
  {
   "cell_type": "code",
   "execution_count": 20,
   "metadata": {},
   "outputs": [
    {
     "name": "stdout",
     "output_type": "stream",
     "text": [
      "<class 'str'>\n",
      "Hello World This is a String\n"
     ]
    }
   ],
   "source": [
    "s = \"Hello World This is a String.\"\n",
    "print(type(s))\n",
    "print(s)"
   ]
  },
  {
   "cell_type": "code",
   "execution_count": 21,
   "metadata": {},
   "outputs": [
    {
     "name": "stdout",
     "output_type": "stream",
     "text": [
      "['__add__', '__class__', '__contains__', '__delattr__', '__dir__', '__doc__', '__eq__', '__format__', '__ge__', '__getattribute__', '__getitem__', '__getnewargs__', '__gt__', '__hash__', '__init__', '__init_subclass__', '__iter__', '__le__', '__len__', '__lt__', '__mod__', '__mul__', '__ne__', '__new__', '__reduce__', '__reduce_ex__', '__repr__', '__rmod__', '__rmul__', '__setattr__', '__sizeof__', '__str__', '__subclasshook__', 'capitalize', 'casefold', 'center', 'count', 'encode', 'endswith', 'expandtabs', 'find', 'format', 'format_map', 'index', 'isalnum', 'isalpha', 'isascii', 'isdecimal', 'isdigit', 'isidentifier', 'islower', 'isnumeric', 'isprintable', 'isspace', 'istitle', 'isupper', 'join', 'ljust', 'lower', 'lstrip', 'maketrans', 'partition', 'replace', 'rfind', 'rindex', 'rjust', 'rpartition', 'rsplit', 'rstrip', 'split', 'splitlines', 'startswith', 'strip', 'swapcase', 'title', 'translate', 'upper', 'zfill']\n"
     ]
    }
   ],
   "source": [
    "print(dir(s))"
   ]
  },
  {
   "cell_type": "code",
   "execution_count": 22,
   "metadata": {},
   "outputs": [],
   "source": [
    "s.split?"
   ]
  },
  {
   "cell_type": "code",
   "execution_count": 27,
   "metadata": {},
   "outputs": [],
   "source": [
    "f = open('C:/users/sachin/desktop/InterBatchDEC2018.csv')\n",
    "data = f.read()\n",
    "f.close()"
   ]
  },
  {
   "cell_type": "code",
   "execution_count": 30,
   "metadata": {},
   "outputs": [
    {
     "name": "stdout",
     "output_type": "stream",
     "text": [
      "'Manu Sharma,DataScience,manumssharma1@gmail.com,7339769443,gyan vihar university,3/12/2018\\nPreyanshu,DataScience,preyanshutrivedi2605@gmail.com,7232848108,\"Poornima University,Jaipur\",3/12/2018\\nAdarsh,DataScience,adaarsh1391@gmail.com,9470726894,Poornima University,3/12/2018\\nShivam Sharma,DataScience,cteshivam271@gmail.com,9950222912,Poornima University,3/12/2018\\nvineet sharma,DataScience,vineetsharma6298@gmail.com,7042826069,poornima university,06/12/2018\\nTanshi Chaturvedi,DataScience,tanshichaturvedi10@gmail.com,8290537300,\"Birla Institute of Technology,Mesra, Jaipur Campus\",6/12/18\\n'\n"
     ]
    }
   ],
   "source": [
    "print(repr(data))"
   ]
  },
  {
   "cell_type": "code",
   "execution_count": 31,
   "metadata": {},
   "outputs": [],
   "source": [
    "new_data = data.split('\\n')"
   ]
  },
  {
   "cell_type": "code",
   "execution_count": 32,
   "metadata": {},
   "outputs": [
    {
     "data": {
      "text/plain": [
       "['Manu Sharma,DataScience,manumssharma1@gmail.com,7339769443,gyan vihar university,3/12/2018',\n",
       " 'Preyanshu,DataScience,preyanshutrivedi2605@gmail.com,7232848108,\"Poornima University,Jaipur\",3/12/2018',\n",
       " 'Adarsh,DataScience,adaarsh1391@gmail.com,9470726894,Poornima University,3/12/2018',\n",
       " 'Shivam Sharma,DataScience,cteshivam271@gmail.com,9950222912,Poornima University,3/12/2018',\n",
       " 'vineet sharma,DataScience,vineetsharma6298@gmail.com,7042826069,poornima university,06/12/2018',\n",
       " 'Tanshi Chaturvedi,DataScience,tanshichaturvedi10@gmail.com,8290537300,\"Birla Institute of Technology,Mesra, Jaipur Campus\",6/12/18',\n",
       " '']"
      ]
     },
     "execution_count": 32,
     "metadata": {},
     "output_type": "execute_result"
    }
   ],
   "source": [
    "new_data"
   ]
  },
  {
   "cell_type": "code",
   "execution_count": 35,
   "metadata": {},
   "outputs": [],
   "source": [
    "k = new_data[-2]"
   ]
  },
  {
   "cell_type": "code",
   "execution_count": 36,
   "metadata": {},
   "outputs": [
    {
     "data": {
      "text/plain": [
       "'Tanshi Chaturvedi,DataScience,tanshichaturvedi10@gmail.com,8290537300,\"Birla Institute of Technology,Mesra, Jaipur Campus\",6/12/18'"
      ]
     },
     "execution_count": 36,
     "metadata": {},
     "output_type": "execute_result"
    }
   ],
   "source": [
    "k"
   ]
  },
  {
   "cell_type": "code",
   "execution_count": 37,
   "metadata": {},
   "outputs": [],
   "source": [
    "n = k.split(',')"
   ]
  },
  {
   "cell_type": "code",
   "execution_count": 38,
   "metadata": {},
   "outputs": [
    {
     "name": "stdout",
     "output_type": "stream",
     "text": [
      "['Tanshi Chaturvedi', 'DataScience', 'tanshichaturvedi10@gmail.com', '8290537300', '\"Birla Institute of Technology', 'Mesra', ' Jaipur Campus\"', '6/12/18']\n"
     ]
    }
   ],
   "source": [
    "print(n)"
   ]
  },
  {
   "cell_type": "code",
   "execution_count": 39,
   "metadata": {},
   "outputs": [
    {
     "data": {
      "text/plain": [
       "'Hello World This is a String'"
      ]
     },
     "execution_count": 39,
     "metadata": {},
     "output_type": "execute_result"
    }
   ],
   "source": [
    "s"
   ]
  },
  {
   "cell_type": "code",
   "execution_count": 40,
   "metadata": {},
   "outputs": [
    {
     "name": "stdout",
     "output_type": "stream",
     "text": [
      "Hello World This is a String\n"
     ]
    }
   ],
   "source": [
    "print(s)"
   ]
  },
  {
   "cell_type": "code",
   "execution_count": 41,
   "metadata": {},
   "outputs": [
    {
     "data": {
      "text/plain": [
       "'HELLO WORLD THIS IS A STRING'"
      ]
     },
     "execution_count": 41,
     "metadata": {},
     "output_type": "execute_result"
    }
   ],
   "source": [
    "s.upper()"
   ]
  },
  {
   "cell_type": "code",
   "execution_count": 42,
   "metadata": {},
   "outputs": [
    {
     "data": {
      "text/plain": [
       "'hello world this is a string'"
      ]
     },
     "execution_count": 42,
     "metadata": {},
     "output_type": "execute_result"
    }
   ],
   "source": [
    "s.lower()"
   ]
  },
  {
   "cell_type": "code",
   "execution_count": 44,
   "metadata": {},
   "outputs": [
    {
     "name": "stdout",
     "output_type": "stream",
     "text": [
      "Help on built-in function lower:\n",
      "\n",
      "lower() method of builtins.str instance\n",
      "    Return a copy of the string converted to lowercase.\n",
      "\n"
     ]
    }
   ],
   "source": [
    "help(s.lower)"
   ]
  },
  {
   "cell_type": "code",
   "execution_count": 45,
   "metadata": {},
   "outputs": [
    {
     "name": "stdout",
     "output_type": "stream",
     "text": [
      "Partition the string into three parts using the given separator.\n",
      "\n",
      "This will search for the separator in the string.  If the separator is found,\n",
      "returns a 3-tuple containing the part before the separator, the separator\n",
      "itself, and the part after it.\n",
      "\n",
      "If the separator is not found, returns a 3-tuple containing the original string\n",
      "and two empty strings.\n"
     ]
    }
   ],
   "source": [
    "print(s.partition.__doc__) #doc-string"
   ]
  },
  {
   "cell_type": "code",
   "execution_count": null,
   "metadata": {},
   "outputs": [],
   "source": []
  }
 ],
 "metadata": {
  "kernelspec": {
   "display_name": "Python 3",
   "language": "python",
   "name": "python3"
  },
  "language_info": {
   "codemirror_mode": {
    "name": "ipython",
    "version": 3
   },
   "file_extension": ".py",
   "mimetype": "text/x-python",
   "name": "python",
   "nbconvert_exporter": "python",
   "pygments_lexer": "ipython3",
   "version": "3.7.0"
  }
 },
 "nbformat": 4,
 "nbformat_minor": 2
}
